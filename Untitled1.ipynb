{
 "cells": [
  {
   "cell_type": "markdown",
   "id": "e9867954",
   "metadata": {},
   "source": [
    "# Machine Learning\n",
    "\n"
   ]
  },
  {
   "cell_type": "markdown",
   "id": "a406a1b4",
   "metadata": {},
   "source": [
    "### Linear Regression \n"
   ]
  },
  {
   "cell_type": "markdown",
   "id": "2e0e2541",
   "metadata": {},
   "source": [
    "# Problem Statement\n"
   ]
  },
  {
   "cell_type": "code",
   "execution_count": null,
   "id": "7f65bbe9",
   "metadata": {},
   "outputs": [],
   "source": []
  }
 ],
 "metadata": {
  "kernelspec": {
   "display_name": "Python 3 (ipykernel)",
   "language": "python",
   "name": "python3"
  },
  "language_info": {
   "codemirror_mode": {
    "name": "ipython",
    "version": 3
   },
   "file_extension": ".py",
   "mimetype": "text/x-python",
   "name": "python",
   "nbconvert_exporter": "python",
   "pygments_lexer": "ipython3",
   "version": "3.9.7"
  }
 },
 "nbformat": 4,
 "nbformat_minor": 5
}
