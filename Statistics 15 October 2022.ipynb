{
 "cells": [
  {
   "cell_type": "code",
   "execution_count": 2,
   "id": "d54d3fcc",
   "metadata": {
    "scrolled": true
   },
   "outputs": [],
   "source": [
    "#NULL Hypothesis\n"
   ]
  },
  {
   "cell_type": "markdown",
   "id": "e8b624be",
   "metadata": {},
   "source": [
    "# Statistical Tools"
   ]
  },
  {
   "cell_type": "markdown",
   "id": "fc8c0e2d",
   "metadata": {},
   "source": [
    "ttest or students ttest\n",
    "Annova \n",
    "Chi-square\n",
    "\n",
    "\n",
    "Ttest types:\n",
    "1. One Sample Test\n",
    "2. Two Sample Test\n",
    "\n",
    "\n"
   ]
  },
  {
   "cell_type": "code",
   "execution_count": null,
   "id": "909b3b1f",
   "metadata": {},
   "outputs": [],
   "source": []
  }
 ],
 "metadata": {
  "kernelspec": {
   "display_name": "Python 3 (ipykernel)",
   "language": "python",
   "name": "python3"
  },
  "language_info": {
   "codemirror_mode": {
    "name": "ipython",
    "version": 3
   },
   "file_extension": ".py",
   "mimetype": "text/x-python",
   "name": "python",
   "nbconvert_exporter": "python",
   "pygments_lexer": "ipython3",
   "version": "3.9.7"
  }
 },
 "nbformat": 4,
 "nbformat_minor": 5
}
